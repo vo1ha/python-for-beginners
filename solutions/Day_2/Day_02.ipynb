{
 "cells": [
  {
   "cell_type": "markdown",
   "metadata": {
    "cell_id": "a0853fb72c694d4fb37fd190ad5fedb9",
    "deepnote_cell_type": "markdown"
   },
   "source": [
    "# Question 4\n",
    "\n",
    "### **Question:**\n",
    "\n",
    "> **_Write a program which accepts a sequence of comma-separated numbers from console and generate a list and a tuple which contains every number.Suppose the following input is supplied to the program:_**\n",
    "\n",
    "\n",
    "34,67,55,33,12,98\n",
    "\n",
    "\n",
    "> **_Then, the output should be:_**\n",
    "\n",
    "\n",
    "['34', '67', '55', '33', '12', '98']\n",
    "('34', '67', '55', '33', '12', '98')\n",
    "\n",
    "\n",
    "### Hints:\n",
    "\n",
    "> **_In case of input data being supplied to the question, it should be assumed to be a console input.tuple() method can convert list to tuple_**\n",
    "\n",
    "---\n",
    "\n",
    "\n",
    "\n",
    "**Solutions:**"
   ]
  },
  {
   "cell_type": "code",
   "execution_count": 1,
   "metadata": {
    "cell_id": "4e32dcd59b684071b99bd2c5f3aa35a1",
    "deepnote_cell_type": "code",
    "deepnote_to_be_reexecuted": false,
    "execution_millis": 3434,
    "execution_start": 1686044043983,
    "source_hash": "a7d984a"
   },
   "outputs": [
    {
     "name": "stdout",
     "output_type": "stream",
     "text": [
      "Enter a list of values separated by commas: 34,67,55,33,12,98\n",
      "['34', '67', '55', '33', '12', '98'] ('34', '67', '55', '33', '12', '98')\n"
     ]
    }
   ],
   "source": [
    "lst = input('Enter a list of values separated by commas: ')\n",
    "print(lst.split(','), tuple(lst.split(',')))"
   ]
  },
  {
   "cell_type": "markdown",
   "metadata": {
    "cell_id": "bca140d35f9a41f08e4d0a3c564fb9a7",
    "deepnote_cell_type": "markdown"
   },
   "source": [
    "---\n",
    "\n",
    "# Question 5\n",
    "\n",
    "### **Question:**\n",
    "\n",
    "> **_Define a class which has at least two methods:_**\n",
    ">\n",
    "> - **_getString: to get a string from console input_**\n",
    "> - **_printString: to print the string in upper case._**\n",
    "\n",
    "> **_Also please include simple test function to test the class methods._**\n",
    "\n",
    "### Hints:\n",
    "\n",
    "> **_Use **init** method to construct some parameters_**\n",
    "\n",
    "---\n",
    "\n",
    "\n",
    "\n",
    "**Solutions:**"
   ]
  },
  {
   "cell_type": "code",
   "execution_count": 54,
   "metadata": {
    "cell_id": "57c958a9c20043b8b933375fa026ec8d",
    "deepnote_cell_type": "code",
    "deepnote_to_be_reexecuted": false,
    "execution_millis": 3,
    "execution_start": 1686044057888,
    "source_hash": "b623e53d"
   },
   "outputs": [
    {
     "name": "stdout",
     "output_type": "stream",
     "text": [
      "Enter a string: \n",
      "NULL\n"
     ]
    }
   ],
   "source": [
    "class StringOperations:\n",
    "    def __init__(self):\n",
    "      self.default_string = 'NULL'\n",
    "\n",
    "    def getString(self):\n",
    "      user_str = input('Enter a string: ')\n",
    "      return user_str\n",
    "\n",
    "    def printString(self, input_str):\n",
    "        if len(input_str) == 0:\n",
    "            print(self.default_string.upper())\n",
    "        else:\n",
    "            print(input_str.upper())\n",
    "\n",
    "\n",
    "def testStringOperations():\n",
    "    # create an object tst\n",
    "    tst = StringOperations()\n",
    "    # check if the method getString asks to enter a value\n",
    "    a = tst.getString()\n",
    "    # check if the entered string is printed. \n",
    "    # if there was no value entered in the previous step, the function should return NULL as default value\n",
    "    tst.printString(a)\n",
    "        \n",
    "testStringOperations()        "
   ]
  },
  {
   "cell_type": "markdown",
   "metadata": {
    "cell_id": "60451b0a01cb4fdc98c8c5be62b5a82a",
    "deepnote_cell_type": "markdown"
   },
   "source": [
    "---\n",
    "\n",
    "# Question 6\n",
    "\n",
    "### **Question:**\n",
    "\n",
    "> **_Write a program that calculates and prints the value according to the given formula:_**\n",
    "\n",
    "> **_Q = Square root of [(2 _ C _ D)/H]_**\n",
    "\n",
    "> **_Following are the fixed values of C and H:_**\n",
    "\n",
    "> **_C is 50. H is 30._**\n",
    "\n",
    "> **_D is the variable whose values should be input to your program in a comma-separated sequence.For example\n",
    "> Let us assume the following comma separated input sequence is given to the program:_**\n",
    "\n",
    "\n",
    "100,150,180\n",
    "\n",
    "\n",
    "> **_The output of the program should be:_**\n",
    "\n",
    "\n",
    "18,22,24\n",
    "\n",
    "\n",
    "---\n",
    "\n",
    "### Hints:\n",
    "\n",
    "> **_If the output received is in decimal form, it should be rounded off to its nearest value (for example, if the output received is 26.0, it should be printed as 26).In case of input data being supplied to the question, it should be assumed to be a console input._**\n",
    "\n",
    "---\n",
    "\n",
    "\n",
    "\n",
    "**Solutions:**"
   ]
  },
  {
   "cell_type": "code",
   "execution_count": 10,
   "metadata": {
    "cell_id": "9829cf3e18294ed481524031a370a5f8",
    "deepnote_cell_type": "code",
    "deepnote_to_be_reexecuted": false,
    "execution_millis": 8,
    "execution_start": 1686044066225,
    "source_hash": "680c2065"
   },
   "outputs": [
    {
     "name": "stdout",
     "output_type": "stream",
     "text": [
      "Please enter a list of values: 100,150,180\n",
      "The output is: 18,22,24\n"
     ]
    }
   ],
   "source": [
    "from math import sqrt  # import specific functions as importing all using *\n",
    "\n",
    "# Defining known arguments\n",
    "c = 50\n",
    "h = 30\n",
    "\n",
    "# Get input arguments, split by commas and convert to a list\n",
    "d = input('Please enter a list of values: ').split(',')\n",
    "\n",
    "# Not sure about the output of the task, but visially it seems that it should be a one string value, \n",
    "# where values inside are separated by commas. For this purpose I'm adding additional logic. Otherwise \n",
    "# the final output could be a list --> output_val = [] and values are appended to it as output_val = append(q)\n",
    "\n",
    "# Creating an empty list to store calculated values\n",
    "output_val = []\n",
    "\n",
    "# For each element in a list a formula is executed and the result is rounded\n",
    "for i in range(len(d)):\n",
    "    q = round(sqrt((2 * c * int(d[i]))/h))\n",
    "    # Concat the result to the final string\n",
    "    output_val.append(q)\n",
    "    \n",
    "# Additional logic to convert to a string\n",
    "output_val = ','.join([str(i) for i in output_val])        \n",
    "    \n",
    "print('The output is:', output_val)"
   ]
  },
  {
   "cell_type": "markdown",
   "metadata": {
    "cell_id": "4b7b73bef06f439b8c70a40484253273",
    "deepnote_cell_type": "markdown"
   },
   "source": [
    "---\n",
    "\n",
    "# Question 7\n",
    "\n",
    "### **Question:**\n",
    "\n",
    "> **_Write a program which takes 2 digits, X,Y as input and generates a 2-dimensional array. The element value in the i-th row and j-th column of the array should be i _ j.\\***\n",
    "\n",
    "> **_Note: i=0,1.., X-1; j=0,1,¡­Y-1. Suppose the following inputs are given to the program: 3,5_**\n",
    "\n",
    "> **_Then, the output of the program should be:_**\n",
    "\n",
    "\n",
    "[[0, 0, 0, 0, 0], [0, 1, 2, 3, 4], [0, 2, 4, 6, 8]]\n",
    "\n",
    "\n",
    "---\n",
    "\n",
    "### Hints:\n",
    "\n",
    "> **_Note: In case of input data being supplied to the question, it should be assumed to be a console input in a comma-separated form._**\n",
    "\n",
    "---\n",
    "\n",
    "\n",
    "\n",
    "**Solutions:**"
   ]
  },
  {
   "cell_type": "code",
   "execution_count": 4,
   "metadata": {
    "cell_id": "3ae4f4e4c88d48ac8737908d8df9f563",
    "deepnote_cell_type": "code",
    "deepnote_to_be_reexecuted": false,
    "execution_millis": 2840,
    "execution_start": 1686044102174,
    "source_hash": "1768e4e5"
   },
   "outputs": [
    {
     "name": "stdout",
     "output_type": "stream",
     "text": [
      "Please enter two values: 3,5\n",
      "[[0, 0, 0, 0, 0], [0, 1, 2, 3, 4], [0, 2, 4, 6, 8]]\n"
     ]
    }
   ],
   "source": [
    "x, y = map(int, input('Please enter two values: ').split(\",\"))\n",
    "\n",
    "# Creating a function as two arrays are calculated in the same way\n",
    "# (I suppose there is a type in the task and j=0,1..,Y-1)\n",
    "def generateList(input_value):\n",
    "    output_list = []\n",
    "    # The last value in the list is equal to i-1 --> no need to write -1 as range() excludes the last value\n",
    "    for i in range(input_value):\n",
    "        output_list.append(i)\n",
    "    return output_list  \n",
    "\n",
    "i = generateList(x)\n",
    "j = generateList(y)\n",
    "\n",
    "# Create two-dimensional array\n",
    "out_list = [[i*j for j in range(len(j))] for i in range(len(i))]\n",
    "print(out_list)"
   ]
  },
  {
   "cell_type": "markdown",
   "metadata": {
    "cell_id": "0acc75899db24c59a066bd04ff86f8bb",
    "deepnote_cell_type": "markdown"
   },
   "source": [
    "---\n",
    "\n",
    "# Question 8\n",
    "\n",
    "### **Question:**\n",
    "\n",
    "> **_Write a program that accepts a comma separated sequence of words as input and prints the words in a comma-separated sequence after sorting them alphabetically._**\n",
    "\n",
    "> **_Suppose the following input is supplied to the program:_**\n",
    "\n",
    "\n",
    "without,hello,bag,world\n",
    "\n",
    "\n",
    "> **_Then, the output should be:_**\n",
    "\n",
    "\n",
    "bag,hello,without,world\n",
    "\n",
    "\n",
    "---\n",
    "\n",
    "### Hints:\n",
    "\n",
    "> **_In case of input data being supplied to the question, it should be assumed to be a console input._**\n",
    "\n",
    "---\n",
    "\n",
    "\n",
    "\n",
    "**Solutions:**"
   ]
  },
  {
   "cell_type": "code",
   "execution_count": 12,
   "metadata": {
    "cell_id": "0541f4bc1d574b9da3a9eeca7758441f",
    "deepnote_cell_type": "code"
   },
   "outputs": [
    {
     "name": "stdout",
     "output_type": "stream",
     "text": [
      "without,hello,bag,world\n",
      "Sorted list: ['bag', 'hello', 'without', 'world']\n",
      "Sorted list in a string representation: bag,hello,without,world\n"
     ]
    }
   ],
   "source": [
    "lst = input().split(\",\")\n",
    "# Sorting list\n",
    "lst.sort()\n",
    "print('Sorted list:',lst)\n",
    "\n",
    "# In case we need exactly the same matching ouput, we need to create a string\n",
    "output_string = ','.join([str(i) for i in lst])\n",
    "print('Sorted list in a string representation:',output_string)"
   ]
  },
  {
   "cell_type": "markdown",
   "metadata": {
    "cell_id": "b4bc30b36bc2468b8b7ce9c7cc7dd25c",
    "deepnote_cell_type": "markdown"
   },
   "source": [
    "---\n",
    "\n",
    "# Question 9\n",
    "\n",
    "### **Question:**\n",
    "\n",
    "> **_Write a program that accepts sequence of lines as input and prints the lines after making all characters in the sentence capitalized._**\n",
    "\n",
    "> **_Suppose the following input is supplied to the program:_**\n",
    "\n",
    "\n",
    "Hello world\n",
    "\n",
    "Practice makes perfect\n",
    "\n",
    "\n",
    "> **_Then, the output should be:_**\n",
    "\n",
    "\n",
    "HELLO WORLD\n",
    "\n",
    "PRACTICE MAKES PERFECT\n",
    "\n",
    "\n",
    "---\n",
    "\n",
    "### Hints:\n",
    "\n",
    "> **_In case of input data being supplied to the question, it should be assumed to be a console input._**\n",
    "\n",
    "---\n",
    "\n",
    "\n",
    "\n",
    "**Solutions:**"
   ]
  },
  {
   "cell_type": "code",
   "execution_count": 36,
   "metadata": {
    "cell_id": "4c44c431514c4b36ae27ee8dfd396000",
    "deepnote_cell_type": "code"
   },
   "outputs": [
    {
     "name": "stdout",
     "output_type": "stream",
     "text": [
      "Enter a sequence of lines:\n",
      "Hello world\n",
      "Practice makes perfect\n",
      "\n",
      "HELLO WORLD\n",
      "PRACTICE MAKES PERFECT\n"
     ]
    }
   ],
   "source": [
    "# As input() accepts only one-row values, \n",
    "# we're running input() in a loop until a user enters empty value.\n",
    "\n",
    "# Ask a user to enter values by print() outside the loop as we need it one time\n",
    "print('Enter a sequence of lines:')\n",
    "# Create empty list to store entered values\n",
    "lst = []\n",
    "while True:\n",
    "    user_input = input()\n",
    "    # Break the loop when the user enters nothing\n",
    "    if user_input == '':\n",
    "        break\n",
    "    # Else append enetered value to the list    \n",
    "    else:\n",
    "        lst.append(user_input)\n",
    "\n",
    "# Every entered value should be printed in a new row --> loop through values and print them in upper case        \n",
    "for i in range(len(lst)):\n",
    "    print(str(lst[i]).upper())"
   ]
  },
  {
   "cell_type": "markdown",
   "metadata": {
    "cell_id": "f490a8d3c30a48b2b2bd46f6188a7d04",
    "deepnote_cell_type": "markdown"
   },
   "source": [
    "---"
   ]
  },
  {
   "cell_type": "markdown",
   "metadata": {
    "created_in_deepnote_cell": true,
    "deepnote_cell_type": "markdown"
   },
   "source": [
    "<a style='text-decoration:none;line-height:16px;display:flex;color:#5B5B62;padding:10px;justify-content:end;' href='https://deepnote.com?utm_source=created-in-deepnote-cell&projectId=5adb9dcd-0f38-4305-ac2f-551207c9a070' target=\"_blank\">\n",
    "<img alt='Created in deepnote.com' style='display:inline;max-height:16px;margin:0px;margin-right:7.5px;' src='data:image/svg+xml;base64,PD94bWwgdmVyc2lvbj0iMS4wIiBlbmNvZGluZz0iVVRGLTgiPz4KPHN2ZyB3aWR0aD0iODBweCIgaGVpZ2h0PSI4MHB4IiB2aWV3Qm94PSIwIDAgODAgODAiIHZlcnNpb249IjEuMSIgeG1sbnM9Imh0dHA6Ly93d3cudzMub3JnLzIwMDAvc3ZnIiB4bWxuczp4bGluaz0iaHR0cDovL3d3dy53My5vcmcvMTk5OS94bGluayI+CiAgICA8IS0tIEdlbmVyYXRvcjogU2tldGNoIDU0LjEgKDc2NDkwKSAtIGh0dHBzOi8vc2tldGNoYXBwLmNvbSAtLT4KICAgIDx0aXRsZT5Hcm91cCAzPC90aXRsZT4KICAgIDxkZXNjPkNyZWF0ZWQgd2l0aCBTa2V0Y2guPC9kZXNjPgogICAgPGcgaWQ9IkxhbmRpbmciIHN0cm9rZT0ibm9uZSIgc3Ryb2tlLXdpZHRoPSIxIiBmaWxsPSJub25lIiBmaWxsLXJ1bGU9ImV2ZW5vZGQiPgogICAgICAgIDxnIGlkPSJBcnRib2FyZCIgdHJhbnNmb3JtPSJ0cmFuc2xhdGUoLTEyMzUuMDAwMDAwLCAtNzkuMDAwMDAwKSI+CiAgICAgICAgICAgIDxnIGlkPSJHcm91cC0zIiB0cmFuc2Zvcm09InRyYW5zbGF0ZSgxMjM1LjAwMDAwMCwgNzkuMDAwMDAwKSI+CiAgICAgICAgICAgICAgICA8cG9seWdvbiBpZD0iUGF0aC0yMCIgZmlsbD0iIzAyNjVCNCIgcG9pbnRzPSIyLjM3NjIzNzYyIDgwIDM4LjA0NzY2NjcgODAgNTcuODIxNzgyMiA3My44MDU3NTkyIDU3LjgyMTc4MjIgMzIuNzU5MjczOSAzOS4xNDAyMjc4IDMxLjY4MzE2ODMiPjwvcG9seWdvbj4KICAgICAgICAgICAgICAgIDxwYXRoIGQ9Ik0zNS4wMDc3MTgsODAgQzQyLjkwNjIwMDcsNzYuNDU0OTM1OCA0Ny41NjQ5MTY3LDcxLjU0MjI2NzEgNDguOTgzODY2LDY1LjI2MTk5MzkgQzUxLjExMjI4OTksNTUuODQxNTg0MiA0MS42NzcxNzk1LDQ5LjIxMjIyODQgMjUuNjIzOTg0Niw0OS4yMTIyMjg0IEMyNS40ODQ5Mjg5LDQ5LjEyNjg0NDggMjkuODI2MTI5Niw0My4yODM4MjQ4IDM4LjY0NzU4NjksMzEuNjgzMTY4MyBMNzIuODcxMjg3MSwzMi41NTQ0MjUgTDY1LjI4MDk3Myw2Ny42NzYzNDIxIEw1MS4xMTIyODk5LDc3LjM3NjE0NCBMMzUuMDA3NzE4LDgwIFoiIGlkPSJQYXRoLTIyIiBmaWxsPSIjMDAyODY4Ij48L3BhdGg+CiAgICAgICAgICAgICAgICA8cGF0aCBkPSJNMCwzNy43MzA0NDA1IEwyNy4xMTQ1MzcsMC4yNTcxMTE0MzYgQzYyLjM3MTUxMjMsLTEuOTkwNzE3MDEgODAsMTAuNTAwMzkyNyA4MCwzNy43MzA0NDA1IEM4MCw2NC45NjA0ODgyIDY0Ljc3NjUwMzgsNzkuMDUwMzQxNCAzNC4zMjk1MTEzLDgwIEM0Ny4wNTUzNDg5LDc3LjU2NzA4MDggNTMuNDE4MjY3Nyw3MC4zMTM2MTAzIDUzLjQxODI2NzcsNTguMjM5NTg4NSBDNTMuNDE4MjY3Nyw0MC4xMjg1NTU3IDM2LjMwMzk1NDQsMzcuNzMwNDQwNSAyNS4yMjc0MTcsMzcuNzMwNDQwNSBDMTcuODQzMDU4NiwzNy43MzA0NDA1IDkuNDMzOTE5NjYsMzcuNzMwNDQwNSAwLDM3LjczMDQ0MDUgWiIgaWQ9IlBhdGgtMTkiIGZpbGw9IiMzNzkzRUYiPjwvcGF0aD4KICAgICAgICAgICAgPC9nPgogICAgICAgIDwvZz4KICAgIDwvZz4KPC9zdmc+' > </img>\n",
    "Created in <span style='font-weight:600;margin-left:4px;'>Deepnote</span></a>"
   ]
  }
 ],
 "metadata": {
  "deepnote": {},
  "deepnote_execution_queue": [],
  "deepnote_notebook_id": "3879830779ca4f63b3aff888ae3df178",
  "kernelspec": {
   "display_name": "Python 3 (ipykernel)",
   "language": "python",
   "name": "python3"
  },
  "language_info": {
   "codemirror_mode": {
    "name": "ipython",
    "version": 3
   },
   "file_extension": ".py",
   "mimetype": "text/x-python",
   "name": "python",
   "nbconvert_exporter": "python",
   "pygments_lexer": "ipython3",
   "version": "3.11.4"
  }
 },
 "nbformat": 4,
 "nbformat_minor": 1
}
